{
 "cells": [
  {
   "cell_type": "markdown",
   "metadata": {},
   "source": [
    "<p>The following notebook provides script of scraping the data <b>staff.am.</b>\n",
    "The general sequence of steps I followed are:\n",
    "    \n",
    "1. [Getting page urls with job annoucements](#load)\n",
    "2. [Getting job urls and defining a function getting data of interest from job announcements](#func)  \n",
    "3. [Crawling, getting and saving the data into csv](#crawl)"
   ]
  },
  {
   "cell_type": "markdown",
   "metadata": {},
   "source": [
    " <h2>1.Getting page urls with job annoucements</h2> <a name=\"load\"></a>"
   ]
  },
  {
   "cell_type": "code",
   "execution_count": 1,
   "metadata": {},
   "outputs": [],
   "source": [
    "#Importing all needed libraries\n",
    "import pandas as pd\n",
    "import time\n",
    "import requests\n",
    "from bs4 import BeautifulSoup\n",
    "from pprint import pprint\n",
    "import csv\n",
    "import more_itertools"
   ]
  },
  {
   "cell_type": "code",
   "execution_count": 2,
   "metadata": {},
   "outputs": [],
   "source": [
    "#getting staff.am pages\n",
    "links=[f\"https://staff.am/en/jobs?page={i}&per-page=50\" for i in range(1,15)]"
   ]
  },
  {
   "cell_type": "code",
   "execution_count": 3,
   "metadata": {},
   "outputs": [
    {
     "data": {
      "text/plain": [
       "['https://staff.am/en/jobs?page=1&per-page=50',\n",
       " 'https://staff.am/en/jobs?page=2&per-page=50',\n",
       " 'https://staff.am/en/jobs?page=3&per-page=50',\n",
       " 'https://staff.am/en/jobs?page=4&per-page=50',\n",
       " 'https://staff.am/en/jobs?page=5&per-page=50',\n",
       " 'https://staff.am/en/jobs?page=6&per-page=50',\n",
       " 'https://staff.am/en/jobs?page=7&per-page=50',\n",
       " 'https://staff.am/en/jobs?page=8&per-page=50',\n",
       " 'https://staff.am/en/jobs?page=9&per-page=50',\n",
       " 'https://staff.am/en/jobs?page=10&per-page=50',\n",
       " 'https://staff.am/en/jobs?page=11&per-page=50',\n",
       " 'https://staff.am/en/jobs?page=12&per-page=50',\n",
       " 'https://staff.am/en/jobs?page=13&per-page=50',\n",
       " 'https://staff.am/en/jobs?page=14&per-page=50']"
      ]
     },
     "execution_count": 3,
     "metadata": {},
     "output_type": "execute_result"
    }
   ],
   "source": [
    "#links of staff.am pages have the following view\n",
    "links"
   ]
  },
  {
   "cell_type": "markdown",
   "metadata": {},
   "source": [
    " <h2>2.Getting job urls and defining a function getting data of interest from job announcements</h2> <a name=\"func\"></a>"
   ]
  },
  {
   "cell_type": "code",
   "execution_count": 4,
   "metadata": {},
   "outputs": [],
   "source": [
    "#getting job urls out of staff.am pages\n",
    "def get_job_links(url):\n",
    "    '''function getting job urls out of the main pages of staff.am and returning href list'''\n",
    "    response=requests.get(url)\n",
    "    time.sleep(3)\n",
    "    response=response.text\n",
    "    page=BeautifulSoup(response, \"html.parser\")\n",
    "    job_urls=[i.find_next().get(\"href\") for i in page.find_all(\"div\", attrs={\"data-id\":True})]\n",
    "    return job_urls"
   ]
  },
  {
   "cell_type": "code",
   "execution_count": 5,
   "metadata": {},
   "outputs": [],
   "source": [
    "#making a list out of list of lists and getting full urls\n",
    "all_job_links=[get_job_links(i) for i in links]\n",
    "all_job_links=list(more_itertools.collapse(all_job_links))\n",
    "all_job_links=[f\"https://staff.am{i}\" for i in all_job_links ]"
   ]
  },
  {
   "cell_type": "code",
   "execution_count": 6,
   "metadata": {},
   "outputs": [],
   "source": [
    "#getting the selected data out of job announcement\n",
    "def get_all_staff(url):\n",
    "    '''function sending request to job announcement pages and returning the outlined details'''\n",
    "    response=requests.get(url)\n",
    "    time=3\n",
    "    page=response.text\n",
    "    page=BeautifulSoup(page, \"html.parser\")\n",
    "    company_name=page.find(\"h1\", class_=\"job_company_title\").get_text()\n",
    "    position=page.find(\"div\", attrs={\"id\":\"job-post\"}).find_next(\"h2\").get_text()\n",
    "    location=page.find(\"span\", text=\"Location:\").next_sibling\n",
    "    category=page.find(\"span\", text=\"Category:\").next_sibling\n",
    "    job_load=page.find(\"span\", text=\"Job type:\").next_sibling\n",
    "    responsibilities=page.find(\"h3\", text=\"Job responsibilities\").find_next().get_text()\n",
    "    qualifications=page.find(\"h3\", text=\"Required qualifications\").find_next().get_text()\n",
    "    return company_name,position,location,category,job_load,responsibilities,qualifications"
   ]
  },
  {
   "cell_type": "markdown",
   "metadata": {},
   "source": [
    " <h2>3.Crawling, getting and saving the data into csv</h2> <a name=\"crawl\"></a>"
   ]
  },
  {
   "cell_type": "code",
   "execution_count": 7,
   "metadata": {},
   "outputs": [],
   "source": [
    "#crawling staff.am and saving the data into final_data_staff list\n",
    "# continue is for going to next iteration regardless of the exceptions raised by the code\n",
    "final_data_staff=[]\n",
    "for i in  all_job_links:\n",
    "    try:\n",
    "        all_data=get_all_staff(i)\n",
    "    except:\n",
    "        continue\n",
    "    final_data_staff.append(all_data)"
   ]
  },
  {
   "cell_type": "code",
   "execution_count": 8,
   "metadata": {},
   "outputs": [],
   "source": [
    "final_data_staff=pd.DataFrame(final_data_staff,columns=[\"company_name\",\"position\",\"location\",\"category\",\"job_load\",\"responsibilities\",\"qualifications\"])"
   ]
  },
  {
   "cell_type": "code",
   "execution_count": 9,
   "metadata": {},
   "outputs": [
    {
     "data": {
      "text/html": [
       "<div>\n",
       "<style scoped>\n",
       "    .dataframe tbody tr th:only-of-type {\n",
       "        vertical-align: middle;\n",
       "    }\n",
       "\n",
       "    .dataframe tbody tr th {\n",
       "        vertical-align: top;\n",
       "    }\n",
       "\n",
       "    .dataframe thead th {\n",
       "        text-align: right;\n",
       "    }\n",
       "</style>\n",
       "<table border=\"1\" class=\"dataframe\">\n",
       "  <thead>\n",
       "    <tr style=\"text-align: right;\">\n",
       "      <th></th>\n",
       "      <th>company_name</th>\n",
       "      <th>position</th>\n",
       "      <th>location</th>\n",
       "      <th>category</th>\n",
       "      <th>job_load</th>\n",
       "      <th>responsibilities</th>\n",
       "      <th>qualifications</th>\n",
       "    </tr>\n",
       "  </thead>\n",
       "  <tbody>\n",
       "    <tr>\n",
       "      <th>0</th>\n",
       "      <td>Digitain</td>\n",
       "      <td>Outbound and Retention Specialist</td>\n",
       "      <td>Yerevan</td>\n",
       "      <td>Marketing/Advertising/PR</td>\n",
       "      <td>Full time</td>\n",
       "      <td>\\n\\nPresent, promote and sell company services...</td>\n",
       "      <td>\\n\\nHigher education\\nProficient in Armenian, ...</td>\n",
       "    </tr>\n",
       "    <tr>\n",
       "      <th>1</th>\n",
       "      <td>Digitain</td>\n",
       "      <td>Turkish Speaking Customer support Specialist</td>\n",
       "      <td>Yerevan</td>\n",
       "      <td>Sales/service management</td>\n",
       "      <td>Full time</td>\n",
       "      <td>\\n\\nCustomer support through online chat,  and...</td>\n",
       "      <td>\\nOur customers call us 24 hours a day, 365 da...</td>\n",
       "    </tr>\n",
       "    <tr>\n",
       "      <th>2</th>\n",
       "      <td>Digitain</td>\n",
       "      <td>English Speaking Customer Care Specialist</td>\n",
       "      <td>Yerevan</td>\n",
       "      <td>Sales/service management</td>\n",
       "      <td>Full time</td>\n",
       "      <td>\\n\\nCustomer support through online chat  and ...</td>\n",
       "      <td>\\nOur customers call us 24 hours a day, 365 da...</td>\n",
       "    </tr>\n",
       "    <tr>\n",
       "      <th>3</th>\n",
       "      <td>FINCA UCO CJSC</td>\n",
       "      <td>Loan Officer in Myasnikyan Branch</td>\n",
       "      <td>Armavir</td>\n",
       "      <td>Banking/credit</td>\n",
       "      <td>Full time</td>\n",
       "      <td>\\n\\nԻրականացնել ուղիղ մարքեթինգ, պոտենցիալ հաճ...</td>\n",
       "      <td>\\n\\nԲարձրագույն կրթություն, նախընտրելի է ֆինան...</td>\n",
       "    </tr>\n",
       "    <tr>\n",
       "      <th>4</th>\n",
       "      <td>FINCA UCO CJSC</td>\n",
       "      <td>Internal Control Specialist</td>\n",
       "      <td>Yerevan</td>\n",
       "      <td>Banking/credit</td>\n",
       "      <td>Full time</td>\n",
       "      <td>\\n\\nCarries out the internal control functions...</td>\n",
       "      <td>\\n\\n Bachelor degree in business/finance requi...</td>\n",
       "    </tr>\n",
       "  </tbody>\n",
       "</table>\n",
       "</div>"
      ],
      "text/plain": [
       "     company_name                                      position   location  \\\n",
       "0       Digitain              Outbound and Retention Specialist   Yerevan    \n",
       "1       Digitain   Turkish Speaking Customer support Specialist   Yerevan    \n",
       "2       Digitain      English Speaking Customer Care Specialist   Yerevan    \n",
       "3  FINCA UCO CJSC            Loan Officer in Myasnikyan Branch    Armavir    \n",
       "4  FINCA UCO CJSC                  Internal Control Specialist    Yerevan    \n",
       "\n",
       "                     category     job_load  \\\n",
       "0   Marketing/Advertising/PR    Full time    \n",
       "1   Sales/service management    Full time    \n",
       "2   Sales/service management    Full time    \n",
       "3             Banking/credit    Full time    \n",
       "4             Banking/credit    Full time    \n",
       "\n",
       "                                    responsibilities  \\\n",
       "0  \\n\\nPresent, promote and sell company services...   \n",
       "1  \\n\\nCustomer support through online chat,  and...   \n",
       "2  \\n\\nCustomer support through online chat  and ...   \n",
       "3  \\n\\nԻրականացնել ուղիղ մարքեթինգ, պոտենցիալ հաճ...   \n",
       "4  \\n\\nCarries out the internal control functions...   \n",
       "\n",
       "                                      qualifications  \n",
       "0  \\n\\nHigher education\\nProficient in Armenian, ...  \n",
       "1  \\nOur customers call us 24 hours a day, 365 da...  \n",
       "2  \\nOur customers call us 24 hours a day, 365 da...  \n",
       "3  \\n\\nԲարձրագույն կրթություն, նախընտրելի է ֆինան...  \n",
       "4  \\n\\n Bachelor degree in business/finance requi...  "
      ]
     },
     "execution_count": 9,
     "metadata": {},
     "output_type": "execute_result"
    }
   ],
   "source": [
    "final_data_staff.head()"
   ]
  },
  {
   "cell_type": "code",
   "execution_count": 10,
   "metadata": {},
   "outputs": [],
   "source": [
    "final_data_staff.to_csv(\"Final_data_staff.csv\", header=True, index=False) #saving into csv"
   ]
  }
 ],
 "metadata": {
  "kernelspec": {
   "display_name": "Python 3",
   "language": "python",
   "name": "python3"
  },
  "language_info": {
   "codemirror_mode": {
    "name": "ipython",
    "version": 3
   },
   "file_extension": ".py",
   "mimetype": "text/x-python",
   "name": "python",
   "nbconvert_exporter": "python",
   "pygments_lexer": "ipython3",
   "version": "3.7.1"
  }
 },
 "nbformat": 4,
 "nbformat_minor": 2
}
